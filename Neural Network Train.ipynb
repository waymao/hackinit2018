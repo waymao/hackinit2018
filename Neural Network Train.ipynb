{
 "cells": [
  {
   "cell_type": "code",
   "execution_count": 1,
   "metadata": {},
   "outputs": [
    {
     "name": "stderr",
     "output_type": "stream",
     "text": [
      "Using TensorFlow backend.\n"
     ]
    }
   ],
   "source": [
    "import tensorflow as tf\n",
    "import numpy as np\n",
    "import keras as kr\n",
    "import pandas as pd\n",
    "import os\n",
    "import PIL\n",
    "\n",
    "from keras.backend.tensorflow_backend import set_session\n",
    "config = tf.ConfigProto()\n",
    "config.gpu_options.per_process_gpu_memory_fraction = 0.3\n",
    "set_session(tf.Session(config=config))\n",
    "\n",
    "import os\n",
    "import numpy as np\n",
    "from PIL import Image\n",
    "import tensorflow as tf\n",
    "import sklearn\n",
    "from sklearn import preprocessing\n",
    "import h5py\n",
    "import scipy\n"
   ]
  },
  {
   "cell_type": "code",
   "execution_count": 2,
   "metadata": {},
   "outputs": [],
   "source": [
    "colnames = ['No', 'A', 'B', 'C', 'D','E','F']\n",
    "data = pd.read_csv('data.csv', names=colnames)\n",
    "\n"
   ]
  },
  {
   "cell_type": "code",
   "execution_count": 3,
   "metadata": {},
   "outputs": [],
   "source": [
    "A = data.A.tolist()\n",
    "A_train = A[1:21]\n",
    "A_test = A[21:28]\n",
    "\n",
    "B = data.A.tolist()\n",
    "B_train = B[1:20]\n",
    "B_test = B[20:28]\n",
    "\n",
    "C = data.C.tolist()\n",
    "C_train = C[1:20]\n",
    "C_test = C[20:28]\n",
    "\n",
    "D = data.D.tolist()\n",
    "D_train = D[1:20]\n",
    "D_test = D[20:28]\n",
    "\n",
    "E = data.E.tolist()\n",
    "E_train = E[1:20]\n",
    "E_test = E[20:28]\n",
    "\n",
    "F = data.F.tolist()\n",
    "F_train = F[1:20]\n",
    "F_test = F[20:28]\n"
   ]
  },
  {
   "cell_type": "code",
   "execution_count": null,
   "metadata": {},
   "outputs": [],
   "source": []
  },
  {
   "cell_type": "code",
   "execution_count": null,
   "metadata": {},
   "outputs": [],
   "source": []
  },
  {
   "cell_type": "code",
   "execution_count": 4,
   "metadata": {},
   "outputs": [
    {
     "data": {
      "text/plain": [
       "(20, 64, 64, 3)"
      ]
     },
     "execution_count": 4,
     "metadata": {},
     "output_type": "execute_result"
    }
   ],
   "source": [
    "from keras.preprocessing.image import ImageDataGenerator, array_to_img, img_to_array, load_img\n",
    "\n",
    "from PIL import Image\n",
    "from numpy import array\n",
    "Arr = []\n",
    "Arr2 = []\n",
    "img1 = Image.open('s1.jpeg')\n",
    "arr1 = array(img1.resize((64,64)))\n",
    "arr1.flatten()\n",
    "\n",
    "\n",
    "\n",
    "img2 = Image.open('s2.jpg')\n",
    "arr2 = array(img2.resize((64,64)))\n",
    "arr2.flatten()\n",
    "arr2.shape\n",
    "\n",
    "img3 = Image.open('s3.jpg')\n",
    "arr3 = array(img3.resize((64,64)))\n",
    "arr3.flatten()\n",
    "arr3.shape\n",
    "\n",
    "\n",
    "img4 = Image.open('s4.jpg')\n",
    "arr4 = array(img4.resize((64,64)))\n",
    "arr4.flatten()\n",
    "arr4.shape\n",
    "\n",
    "\n",
    "img5 = Image.open('s5.jpg')\n",
    "arr5 = array(img5.resize((64,64)))\n",
    "arr5.flatten()\n",
    "arr5.shape\n",
    "\n",
    "\n",
    "img6 = Image.open('s6.jpg')\n",
    "arr6 = array(img6.resize((64,64)))\n",
    "arr6.flatten()\n",
    "arr6.shape\n",
    "\n",
    "\n",
    "img7 = Image.open('s7.jpg')\n",
    "arr7= array(img7.resize((64,64)))\n",
    "arr7.flatten()\n",
    "arr7.shape\n",
    "\n",
    "\n",
    "img8 = Image.open('s8.jpg')\n",
    "arr8 = array(img8.resize((64,64)))\n",
    "arr8.flatten()\n",
    "arr8.shape\n",
    "\n",
    "\n",
    "img9 = Image.open('s9.jpg')\n",
    "arr9 = array(img9.resize((64,64)))\n",
    "arr9.flatten()\n",
    "arr9.shape\n",
    "\n",
    "\n",
    "img10 = Image.open('s10.jpg')\n",
    "arr10 = array(img10.resize((64,64)))\n",
    "arr10.flatten()\n",
    "arr10.shape\n",
    "\n",
    "\n",
    "img11 = Image.open('s11.jpeg')\n",
    "arr11 = array(img11.resize((64,64)))\n",
    "arr11.flatten()\n",
    "arr11.shape\n",
    "\n",
    "\n",
    "img12 = Image.open('s12.jpeg')\n",
    "arr12 = array(img12.resize((64,64)))\n",
    "arr12.flatten()\n",
    "arr12.shape\n",
    "\n",
    "img13 = Image.open('s13.jpeg')\n",
    "arr13 = array(img13.resize((64,64)))\n",
    "arr13.flatten()\n",
    "arr13.shape\n",
    "\n",
    "img14 = Image.open('s14.jpeg')\n",
    "arr14 = array(img14.resize((64,64)))\n",
    "arr14.flatten()\n",
    "arr14.shape\n",
    "\n",
    "\n",
    "img15 = Image.open('s15.jpeg')\n",
    "arr15 = array(img15.resize((64,64)))\n",
    "arr15.flatten()\n",
    "arr15.shape\n",
    "\n",
    "\n",
    "img16 = Image.open('s16.jpeg')\n",
    "arr16 = array(img16.resize((64,64)))\n",
    "arr16.flatten()\n",
    "arr16.shape\n",
    "\n",
    "\n",
    "img17 = Image.open('s17.jpeg')\n",
    "arr17 = array(img17.resize((64,64)))\n",
    "arr17.flatten()\n",
    "arr17.shape\n",
    "\n",
    "\n",
    "img18 = Image.open('s18.jpeg')\n",
    "arr18 = array(img18.resize((64,64)))\n",
    "arr18.flatten()\n",
    "arr18.shape\n",
    "\n",
    "\n",
    "img19 = Image.open('s19.jpeg')\n",
    "arr19 = array(img19.resize((64,64)))\n",
    "arr19.flatten()\n",
    "arr19.shape\n",
    "\n",
    "\n",
    "img20 = Image.open('s20.jpg')\n",
    "arr20 = array(img20.resize((64,64)))\n",
    "arr20.flatten()\n",
    "arr20.shape\n",
    "\n",
    "\n",
    "img21 = Image.open('s21.jpeg')\n",
    "arr21 = array(img21.resize((64,64)))\n",
    "arr21.flatten()\n",
    "arr21.shape\n",
    "\n",
    "\n",
    "img22 = Image.open('s22.jpeg')\n",
    "img22.resize((64,64))\n",
    "arr22 = array(img22)\n",
    "arr22.flatten()\n",
    "arr22.shape\n",
    "\n",
    "\n",
    "img23 = Image.open('s23.jpeg')\n",
    "img23.resize((64,64))\n",
    "arr23= array(img23)\n",
    "arr23.flatten()\n",
    "arr23.shape\n",
    "\n",
    "\n",
    "img24 = Image.open('s24.jpeg')\n",
    "arr24 = array(img24.resize((64,64)))\n",
    "arr24.flatten()\n",
    "arr24.shape\n",
    "\n",
    "\n",
    "img25 = Image.open('s25.jpeg')\n",
    "img25.resize((64,64))\n",
    "arr25 = array(img25)\n",
    "arr25.flatten()\n",
    "arr25.shape\n",
    "\n",
    "\n",
    "img26 = Image.open('s26.jpeg')\n",
    "img26.resize((64,64))\n",
    "arr26 = array(img26)\n",
    "arr26.flatten()\n",
    "arr26.shape\n",
    "\n",
    "\n",
    "img27 = Image.open('s27.jpeg')\n",
    "img27.resize((64,64))\n",
    "arr27 = array(img27)\n",
    "arr27.flatten()\n",
    "arr27.shape\n",
    "\n",
    "X_input = np.concatenate((arr1, arr2, arr3, arr4, arr5, arr6, arr7, arr8, arr9, arr10, arr11, arr12, arr13, arr14, arr15, arr16, arr17, arr18, arr19, arr20)).reshape((20, 64, 64, 3))\n",
    "X_input.shape\n",
    "\n"
   ]
  },
  {
   "cell_type": "code",
   "execution_count": 5,
   "metadata": {},
   "outputs": [
    {
     "name": "stdout",
     "output_type": "stream",
     "text": [
      "X_train shape: (20, 64, 64, 3)\n",
      "20 train samples\n"
     ]
    }
   ],
   "source": [
    "X_train = X_input\n",
    "# X_test = X_test\n",
    "Y_train = np.asarray(A_train)\n",
    "# Y_test = np.asarray(A_test)\n",
    "\n",
    "\n",
    "\n",
    "X_train_normalized = X_train/255\n",
    "# X_test_normalized = X_test/255\n",
    "print('X_train shape:', X_train.shape)\n",
    "print(X_train.shape[0], 'train samples')\n",
    "# print(X_test.shape[0], 'test samples')\n",
    "\n",
    "input_shape = (512, 512, 3)"
   ]
  },
  {
   "cell_type": "code",
   "execution_count": 6,
   "metadata": {},
   "outputs": [],
   "source": [
    "from keras.models import Sequential\n",
    "\n",
    "model = Sequential()\n",
    "from keras.layers import Dense, Dropout, Activation, Flatten\n",
    "from keras.layers import Conv2D, MaxPooling2D\n",
    "from keras.utils import np_utils\n",
    "from keras import backend as K"
   ]
  },
  {
   "cell_type": "code",
   "execution_count": 7,
   "metadata": {},
   "outputs": [],
   "source": [
    "\n",
    "model.add(Conv2D(32, (3, 3), activation='relu', input_shape=(64, 64, 3)))\n",
    "model.add(Conv2D(32, (3, 3), activation='relu'))\n",
    "model.add(MaxPooling2D(pool_size=(2, 2)))\n",
    "model.add(Dropout(0.25))"
   ]
  },
  {
   "cell_type": "code",
   "execution_count": 8,
   "metadata": {},
   "outputs": [],
   "source": [
    "model.add(Conv2D(64, (3, 3), activation='relu'))\n",
    "model.add(Conv2D(64, (3, 3), activation='relu'))\n",
    "model.add(MaxPooling2D(pool_size=(2, 2)))\n",
    "model.add(Dropout(0.25))"
   ]
  },
  {
   "cell_type": "code",
   "execution_count": 9,
   "metadata": {},
   "outputs": [],
   "source": [
    "model.add(Flatten())\n",
    "model.add(Dense(256, activation='relu'))\n",
    "model.add(Dropout(0.5))\n",
    "model.add(Dense(10, activation='softmax'))"
   ]
  },
  {
   "cell_type": "code",
   "execution_count": 10,
   "metadata": {},
   "outputs": [],
   "source": [
    "from keras.optimizers import SGD\n",
    "\n",
    "sgd = SGD(lr=0.01, decay=1e-6, momentum=0.9, nesterov=True)\n",
    "model.compile(loss='categorical_crossentropy', optimizer=sgd)\n"
   ]
  },
  {
   "cell_type": "code",
   "execution_count": 11,
   "metadata": {},
   "outputs": [],
   "source": [
    "Y_train_1 = np_utils.to_categorical(Y_train, num_classes=10)"
   ]
  },
  {
   "cell_type": "code",
   "execution_count": 12,
   "metadata": {},
   "outputs": [
    {
     "name": "stdout",
     "output_type": "stream",
     "text": [
      "Epoch 1/10\n",
      "20/20 [==============================] - 1s 38ms/step - loss: 14.5063\n",
      "Epoch 2/10\n",
      "20/20 [==============================] - 0s 2ms/step - loss: 15.8980\n",
      "Epoch 3/10\n",
      "20/20 [==============================] - 0s 2ms/step - loss: 12.0886\n",
      "Epoch 4/10\n",
      "20/20 [==============================] - 0s 2ms/step - loss: 12.0886\n",
      "Epoch 5/10\n",
      "20/20 [==============================] - 0s 2ms/step - loss: 12.0886\n",
      "Epoch 6/10\n",
      "20/20 [==============================] - 0s 1ms/step - loss: 12.0886\n",
      "Epoch 7/10\n",
      "20/20 [==============================] - 0s 1ms/step - loss: 12.0886\n",
      "Epoch 8/10\n",
      "20/20 [==============================] - 0s 2ms/step - loss: 12.0886\n",
      "Epoch 9/10\n",
      "20/20 [==============================] - 0s 1ms/step - loss: 12.0886\n",
      "Epoch 10/10\n",
      "20/20 [==============================] - 0s 2ms/step - loss: 12.0886\n"
     ]
    },
    {
     "data": {
      "text/plain": [
       "<keras.callbacks.History at 0x7f4a3f1cd0b8>"
      ]
     },
     "execution_count": 12,
     "metadata": {},
     "output_type": "execute_result"
    }
   ],
   "source": [
    "model.fit(X_train, Y_train_1, batch_size=2, epochs=10)"
   ]
  },
  {
   "cell_type": "code",
   "execution_count": 13,
   "metadata": {},
   "outputs": [
    {
     "data": {
      "text/plain": [
       "array([[0., 0., 0., 0., 1., 0., 0., 0., 0., 0.]], dtype=float32)"
      ]
     },
     "execution_count": 13,
     "metadata": {},
     "output_type": "execute_result"
    }
   ],
   "source": [
    "model.predict(arr3.reshape(1,64,64,3))"
   ]
  },
  {
   "cell_type": "code",
   "execution_count": 14,
   "metadata": {},
   "outputs": [],
   "source": [
    "model.save(\"model111.h5\")\n",
    "model.save"
   ]
  },
  {
   "cell_type": "code",
   "execution_count": null,
   "metadata": {},
   "outputs": [],
   "source": []
  }
 ],
 "metadata": {
  "kernelspec": {
   "display_name": "Python 3",
   "language": "python",
   "name": "python3"
  },
  "language_info": {
   "codemirror_mode": {
    "name": "ipython",
    "version": 3
   },
   "file_extension": ".py",
   "mimetype": "text/x-python",
   "name": "python",
   "nbconvert_exporter": "python",
   "pygments_lexer": "ipython3",
   "version": "3.6.6"
  }
 },
 "nbformat": 4,
 "nbformat_minor": 2
}
